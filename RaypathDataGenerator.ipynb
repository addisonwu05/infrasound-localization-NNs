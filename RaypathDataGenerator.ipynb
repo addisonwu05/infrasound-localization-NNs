{
 "cells": [
  {
   "cell_type": "code",
   "execution_count": null,
   "metadata": {},
   "outputs": [],
   "source": [
    "import pyautogui\n",
    "import time\n",
    "import numpy as np"
   ]
  },
  {
   "cell_type": "code",
   "execution_count": null,
   "metadata": {},
   "outputs": [],
   "source": [
    "#Get the cursor at the right place\n",
    "time.sleep(10)\n",
    "print(pyautogui.position())\n",
    "\n",
    "#First, select the atmospheric profile\n",
    "for i in range(0, 17):\n",
    "    atmo = \"example\" + str(i) + \".met\"\n",
    "    #Then, set an initial source altitude\n",
    "    for j in np.arange(0, 20, 0.05):\n",
    "        #Then, run the command\n",
    "        pyautogui.typewrite(\"./infraGA/bin/infraga-2d -prop ./infraGA/training_data/profs/\" + atmo + \" src_alt=\" + str(j) + \"incl_min=-89\" + \" incl_max=89\")\n",
    "        pyautogui.press(\"enter\")\n",
    "        #Rename and move the file\n",
    "        newFileName = \"Atmo\" + str(i) + \"_Alt\" + str(j) + \".raypaths.dat\"\n",
    "        pyautogui.typewrite(\"mv ./infraGA/training_data/profs/example\" + str(i) + \".raypaths.dat\" + \" ./raw_raypaths/\" + newFileName)\n",
    "        pyautogui.press(\"enter\")\n",
    "\n",
    "        #mv ./training_data/profs/example16.raypaths.dat example.dat"
   ]
  }
 ],
 "metadata": {
  "language_info": {
   "name": "python"
  },
  "orig_nbformat": 4
 },
 "nbformat": 4,
 "nbformat_minor": 2
}
