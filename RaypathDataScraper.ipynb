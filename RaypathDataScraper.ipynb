{
 "cells": [
  {
   "cell_type": "code",
   "execution_count": null,
   "metadata": {},
   "outputs": [],
   "source": [
    "import os\n",
    "import numpy as np\n",
    "import pandas as pd"
   ]
  },
  {
   "cell_type": "code",
   "execution_count": null,
   "metadata": {},
   "outputs": [],
   "source": [
    "startPath = \"/Users/addisonwu/aw2418@princeton.edu - Google Drive/My Drive/Clear Air Turbulence Localization Deep Learning/infraGA/raw_raypath_datasets\"\n",
    "endPath = \"/Users/addisonwu/aw2418@princeton.edu - Google Drive/My Drive/Clear Air Turbulence Localization Deep Learning/infraGA/scraped_raypath_datasets\""
   ]
  },
  {
   "cell_type": "code",
   "execution_count": null,
   "metadata": {},
   "outputs": [],
   "source": [
    "for filename in os.listdir(startPath):\n",
    "    #Set the altitude of the microphone\n",
    "    microphone_alt = np.around(np.random.uniform(3, 20), decimals=2)\n",
    "    microphone_r = np.around(np.random.uniform(10, 900), decimals=3)\n",
    "\n",
    "    #Read datafile and ensure it is float file\n",
    "    df = pd.read_table(os.path.join(startPath, filename), dtype=float)\n",
    "    df = df.astype(float)\n",
    "\n",
    "    #parse for relevant data, r and z must be within the microphone's pickup range\n",
    "    #Spherical distribution? Pythagorean inequality\n",
    "    drop_row_list = []\n",
    "    for i in range(0, len(df)):\n",
    "        if (microphone_r - float(df[\"# r [km]\"][i]))**2 + (microphone_alt - float(df[\"z [km]\"][i]))**2 > 2.5**2:  #microphone with capture radius of 2.5 km\n",
    "            drop_row_list.append(i) # data is out of range of microphone discard it\n",
    "    df = df.drop(labels = drop_row_list, axis = 0) #discard said rows\n",
    "\n",
    "    #now we need to adjust the time column so that it's scaled down (we can only use what we know)\n",
    "    #the times are set relative to when the microphone registers, not how long it takes after emitted from source\n",
    "    #drop irrelevant columns\n",
    "    df[\"time [s]\"] = df[\"time [s]\"] - min(df[\"time [s]\"])\n",
    "    df = df.drop(columns=[\"r [km]\", \"z [km]\", \"trans. coeff. [dB]\"])\n",
    "\n",
    "    #write and save to a new file name\n",
    "    newfile = \"MicAlt_\" + str(microphone_alt) + \"_MicDistance_\" + str(microphone_r) + \"_\" + filename\n",
    "    path = \"/Users/addisonwu/aw2418@princeton.edu - Google Drive/My Drive/Clear Air Turbulence Localization Deep Learning/infraGA/scraped_raypath_datasets\"\n",
    "    with open(os.path.join(path, newfile), 'w') as file:\n",
    "      file.write(df)\n",
    "\n",
    "    newfile = f\"MicAlt_{microphone_alt}_MicDistance_{microphone_r}_{filename}\"\n",
    "    output_file_path = os.path.join(\"/Users/addisonwu/aw2418@princeton.edu - Google Drive/My Drive/Clear Air Turbulence Localization Deep Learning/infraGA/scraped_raypath_datasets\", newfile)\n",
    "    df.to_csv(output_file_path, sep='\\t', index=False, header=False)"
   ]
  }
 ],
 "metadata": {
  "language_info": {
   "name": "python"
  },
  "orig_nbformat": 4
 },
 "nbformat": 4,
 "nbformat_minor": 2
}
