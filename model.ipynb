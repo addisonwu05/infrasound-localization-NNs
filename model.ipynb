{
 "cells": [
  {
   "cell_type": "code",
   "execution_count": 67,
   "id": "4d961a40-326e-4d1a-8a40-580d78eec7bd",
   "metadata": {},
   "outputs": [],
   "source": [
    "import tensorflow as tf\n",
    "from tensorflow.keras.models import Model, Input\n",
    "from tensorflow.keras.layers import Dense, Dropout, Flatten, Conv2D, MaxPooling2D, concatenate\n",
    "from sklearn.model_selection import train_test_split\n",
    "import numpy as np\n",
    "import pandas as pd"
   ]
  },
  {
   "cell_type": "code",
   "execution_count": null,
   "id": "f9b1bad3-7b5f-449c-91a5-9f15fa1b377f",
   "metadata": {},
   "outputs": [],
   "source": [
    "#Import the data\n",
    "input_path = \"./CAT_Infrasound_Data/model_dataset1/input.json\"\n",
    "labels_path = \"./CAT_Infrasound_Data/model_dataset1/labels.json\"\n",
    "\n",
    "data = (pd.read_json(input_path)).values.tolist()\n",
    "\n",
    "reshapedData = []\n",
    "fftLength = int(np.sqrt(len(data[0][1])))\n",
    "\n",
    "for element in data:\n",
    "    atmoStats = np.array(element[0])\n",
    "    fft = np.array(element[1]).reshape(fftLength, fftLength, 1)\n",
    "    reshapedData.append([atmoStats, fft])\n",
    "\n",
    "labels = (pd.read_json(labels_path)).values.tolist()\n",
    "\n",
    "#Split into train, val, test\n",
    "data_train, data_temp, labels_train, labels_temp = train_test_split(data, labels, test_size=0.3)\n",
    "data_val, data_test, labels_val, labels_test = train_test_split(data_temp, labels_temp, test_size=0.5, random_state=42)"
   ]
  },
  {
   "cell_type": "code",
   "execution_count": null,
   "id": "2682757c-5b51-41b9-95e0-e661c664528f",
   "metadata": {},
   "outputs": [],
   "source": [
    "#Model Design\n",
    "\n",
    "#atmostats input model\n",
    "atmoInput = Input(shape = (len(data[0][0]), 1))\n",
    "x = atmoInput\n",
    "\n",
    "numLayersAtmo = 10\n",
    "for i in range(0, numLayersAtmo):\n",
    "    x = Dense(512, activation='relu')(x)\n",
    "    x = Dropout(0.2)(x)\n",
    "\n",
    "atmostatsOutput = Dense(256, activation = 'relu')(x)\n",
    "\n",
    "#fft input model\n",
    "fftInput = Input(shape = (fftLength, fftLength, 1))\n",
    "y = fftInput\n",
    "\n",
    "numLayersFFT = 5\n",
    "for i in range(0, numLayersFFT):\n",
    "    y = Conv2D(32, kernel_size=4, activation='relu')(y)\n",
    "    y = MaxPooling2D(pool_size=(2, 2))(y)\n",
    "\n",
    "fftOutput = Flatten()(y)\n",
    "\n",
    "#concatenate, feed through another DNN\n",
    "concatenatedInput = concatenate([atmostatsOutput, fftOutput])\n",
    "\n",
    "numLayersFinal = 40\n",
    "for i in range(0, numLayersAtmo):\n",
    "    z = Dense(512, activation='relu')(z)\n",
    "    z = Dropout(0.2)(z)\n",
    "\n",
    "z = Dense(256, activation='relu')(z)\n",
    "z = Dropout(0.2)(z)\n",
    "\n",
    "z = Dense(128, activation='relu')(z)\n",
    "z = Dropout(0.2)(z)\n",
    "\n",
    "z = Dense(64, activation='relu')(z)\n",
    "z = Dropout(0.2)(z)\n",
    "\n",
    "z = Dense(32, activation='relu')(z)\n",
    "z = Dropout(0.2)(z)\n",
    "\n",
    "z = Dense(16, activation='relu')(z)\n",
    "\n",
    "z = Dense(8, activation='relu')(z)\n",
    "\n",
    "z = Dense(4, activation='relu')(z)\n",
    "\n",
    "#final output layer\n",
    "output = Dense(2, activation = 'relu')(z)\n",
    "\n",
    "#model compilation\n",
    "model = Model(inputs=[atmoInput, fftInput], outputs=output)\n",
    "\n",
    "opt = keras.optimizers.Adam(learning_rate=0.0001)\n",
    "model.compile(optimizer=opt, loss='mean_squared_error', metrics=['mean_squared_error'])"
   ]
  },
  {
   "cell_type": "code",
   "execution_count": null,
   "id": "47460faa-8724-44b9-ac78-a8b4b8792346",
   "metadata": {},
   "outputs": [],
   "source": [
    "#model training\n",
    "size = 32\n",
    "numEpochs = 100\n",
    "model.fit(data_train, labels_train, validation_data = (data_val, labels_val), batch_size = , epochs = 100)"
   ]
  }
 ],
 "metadata": {
  "kernelspec": {
   "display_name": "Python 3 (ipykernel)",
   "language": "python",
   "name": "python3"
  },
  "language_info": {
   "codemirror_mode": {
    "name": "ipython",
    "version": 3
   },
   "file_extension": ".py",
   "mimetype": "text/x-python",
   "name": "python",
   "nbconvert_exporter": "python",
   "pygments_lexer": "ipython3",
   "version": "3.11.5"
  }
 },
 "nbformat": 4,
 "nbformat_minor": 5
}
